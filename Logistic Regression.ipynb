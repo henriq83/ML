{
 "cells": [
  {
   "cell_type": "code",
   "execution_count": null,
   "metadata": {},
   "outputs": [],
   "source": [
    "# \n",
    "# LOGISTIC Regression\n",
    "# Identifying the probability of switching to a competitor\n",
    "#"
   ]
  },
  {
   "cell_type": "code",
   "execution_count": null,
   "metadata": {},
   "outputs": [],
   "source": [
    "# Load the libraries\n",
    "\n",
    "import pandas as pd\n",
    "import numpy as np\n",
    "from sklearn import linear_model  #The main library we need this time\n",
    "import matplotlib.pyplot as plt"
   ]
  },
  {
   "cell_type": "code",
   "execution_count": null,
   "metadata": {},
   "outputs": [],
   "source": [
    "# reading the data\n",
    "\n",
    "df = pd.read_csv('AT&T data.csv')\n",
    "df.head()"
   ]
  },
  {
   "cell_type": "code",
   "execution_count": null,
   "metadata": {},
   "outputs": [],
   "source": [
    "# Cleaning the data\n",
    "\n",
    "df.dropna(how='any',inplace=True)"
   ]
  },
  {
   "cell_type": "code",
   "execution_count": null,
   "metadata": {},
   "outputs": [],
   "source": [
    "df.loc[df['pick']=='OCC' , 'pick'] = 1\n",
    "df.loc[df['pick']=='ATT' , 'pick'] = 0"
   ]
  },
  {
   "cell_type": "code",
   "execution_count": null,
   "metadata": {},
   "outputs": [],
   "source": [
    "df.head()"
   ]
  },
  {
   "cell_type": "code",
   "execution_count": null,
   "metadata": {},
   "outputs": [],
   "source": [
    "# Choosing the target and the features\n",
    "# Just so you understand the differences, I am getting Y using two different methods\n",
    "\n",
    "chosenColumns = ['usage']\n",
    "chosenY = ['pick']\n",
    "myX = df[chosenColumns].values\n",
    "myY = df[chosenY].values\n",
    "myYlogistic = df.pick.values"
   ]
  },
  {
   "cell_type": "code",
   "execution_count": null,
   "metadata": {},
   "outputs": [],
   "source": [
    "myX"
   ]
  },
  {
   "cell_type": "code",
   "execution_count": null,
   "metadata": {},
   "outputs": [],
   "source": [
    "myY"
   ]
  },
  {
   "cell_type": "code",
   "execution_count": null,
   "metadata": {},
   "outputs": [],
   "source": [
    "myYlogistic"
   ]
  },
  {
   "cell_type": "code",
   "execution_count": null,
   "metadata": {},
   "outputs": [],
   "source": [
    "# Changing the type of Y, from object to int\n",
    "\n",
    "myYlogistic = myYlogistic.astype('int')\n",
    "myYlogistic"
   ]
  },
  {
   "cell_type": "code",
   "execution_count": null,
   "metadata": {},
   "outputs": [],
   "source": [
    "# Actually running the logistic regression\n",
    "\n",
    "logisticReg = linear_model.LogisticRegression(random_state=0)\n",
    "logisticReg.fit(myX, myYlogistic)\n",
    "\n",
    "print('Coeficients:\\n')\n",
    "\n",
    "print(\"Coef Logistic:\", logisticReg.intercept_, logisticReg.coef_)"
   ]
  },
  {
   "cell_type": "code",
   "execution_count": null,
   "metadata": {},
   "outputs": [],
   "source": [
    "PARADA"
   ]
  },
  {
   "cell_type": "code",
   "execution_count": null,
   "metadata": {},
   "outputs": [],
   "source": [
    "#\n",
    "# Can we run Logistic Regression with Lasso, Ridge, Elastic Net ???\n",
    "#\n",
    "# Yes, we do, let us try a little more complex example\n",
    "#"
   ]
  },
  {
   "cell_type": "code",
   "execution_count": null,
   "metadata": {},
   "outputs": [],
   "source": [
    "# Recall our dataset\n",
    "df"
   ]
  },
  {
   "cell_type": "code",
   "execution_count": null,
   "metadata": {},
   "outputs": [],
   "source": [
    "# First I will get dummies\n",
    "\n",
    "df = pd.get_dummies(df)\n",
    "df.head(20)"
   ]
  },
  {
   "cell_type": "code",
   "execution_count": null,
   "metadata": {},
   "outputs": [],
   "source": [
    "# Choosing a different set of features\n",
    "\n",
    "chosenColumns = ['usage', 'reachout_YES', 'card_YES' ]\n",
    "\n",
    "myX = df[chosenColumns].values\n",
    "myX"
   ]
  },
  {
   "cell_type": "code",
   "execution_count": null,
   "metadata": {},
   "outputs": [],
   "source": [
    "# Actually running the logistic regression\n",
    "\n",
    "logisticReg = linear_model.LogisticRegression(random_state=0, solver='liblinear', penalty = 'l1')\n",
    "logisticReg.fit(myX, myYlogistic)\n",
    "\n",
    "print('Coeficients:\\n')\n",
    "\n",
    "print(\"Coef Logistic:\", logisticReg.intercept_, logisticReg.coef_)"
   ]
  },
  {
   "cell_type": "code",
   "execution_count": null,
   "metadata": {},
   "outputs": [],
   "source": [
    "# Actually running the logistic regression\n",
    "\n",
    "logisticReg = linear_model.LogisticRegression(random_state=0, solver='liblinear', penalty = 'l2')\n",
    "logisticReg.fit(myX, myYlogistic)\n",
    "\n",
    "print('Coeficients:\\n')\n",
    "\n",
    "print(\"Coef Logistic:\", logisticReg.intercept_, logisticReg.coef_)"
   ]
  },
  {
   "cell_type": "code",
   "execution_count": null,
   "metadata": {},
   "outputs": [],
   "source": [
    "# Actually running the logistic regression\n",
    "\n",
    "logisticReg = linear_model.LogisticRegression(random_state=0, solver='saga', penalty = 'elasticnet',\n",
    "                                              l1_ratio = 0.5)\n",
    "logisticReg.fit(myX, myYlogistic)\n",
    "\n",
    "print('Coeficients:\\n')\n",
    "\n",
    "print(\"Coef Logistic:\", logisticReg.intercept_, logisticReg.coef_)"
   ]
  },
  {
   "cell_type": "code",
   "execution_count": null,
   "metadata": {},
   "outputs": [],
   "source": [
    "# Actually running the logistic regression\n",
    "\n",
    "logisticReg = linear_model.LogisticRegression(random_state=0, solver='saga', penalty = 'elasticnet',\n",
    "                                              l1_ratio = 0.5, max_iter = 10000)\n",
    "logisticReg.fit(myX, myYlogistic)\n",
    "\n",
    "print('Coeficients:\\n')\n",
    "\n",
    "print(\"Coef Logistic:\", logisticReg.intercept_, logisticReg.coef_)"
   ]
  },
  {
   "cell_type": "code",
   "execution_count": null,
   "metadata": {},
   "outputs": [],
   "source": []
  }
 ],
 "metadata": {
  "kernelspec": {
   "display_name": "Python 3",
   "language": "python",
   "name": "python3"
  },
  "language_info": {
   "codemirror_mode": {
    "name": "ipython",
    "version": 3
   },
   "file_extension": ".py",
   "mimetype": "text/x-python",
   "name": "python",
   "nbconvert_exporter": "python",
   "pygments_lexer": "ipython3",
   "version": "3.7.6"
  }
 },
 "nbformat": 4,
 "nbformat_minor": 2
}
